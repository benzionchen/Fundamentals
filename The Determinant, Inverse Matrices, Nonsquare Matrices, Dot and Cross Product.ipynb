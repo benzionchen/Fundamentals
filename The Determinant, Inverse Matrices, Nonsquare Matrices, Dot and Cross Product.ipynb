{
 "cells": [
  {
   "cell_type": "markdown",
   "id": "9ea98e41",
   "metadata": {},
   "source": [
    "# Determinant\n",
    "https://www.youtube.com/watch?v=Ip3X9LOh2dk&list=PLZHQObOWTQDPD3MizzM2xVFitgF8hE_ab&index=20&ab_channel=3Blue1Brown"
   ]
  },
  {
   "cell_type": "markdown",
   "id": "addcdbc5",
   "metadata": {},
   "source": [
    "# Inverse Matrices"
   ]
  },
  {
   "cell_type": "markdown",
   "id": "75333674",
   "metadata": {},
   "source": [
    "# Nonsquare Matrices"
   ]
  },
  {
   "cell_type": "markdown",
   "id": "71b2953f",
   "metadata": {},
   "source": [
    "# Dot Product"
   ]
  },
  {
   "cell_type": "markdown",
   "id": "f804afd6",
   "metadata": {},
   "source": [
    "# Cross Product"
   ]
  },
  {
   "cell_type": "markdown",
   "id": "de5c0d97",
   "metadata": {},
   "source": [
    "# Cramer's Rule"
   ]
  },
  {
   "cell_type": "markdown",
   "id": "f02942df",
   "metadata": {},
   "source": [
    "# Change of Basis"
   ]
  },
  {
   "cell_type": "markdown",
   "id": "689fbfab",
   "metadata": {},
   "source": [
    "# Eigenvectors and Eigenvalues\n",
    "\n",
    "## Computing eigenvalues"
   ]
  },
  {
   "cell_type": "markdown",
   "id": "4ffb89c2",
   "metadata": {},
   "source": [
    "# Abstract Vector Spaces "
   ]
  }
 ],
 "metadata": {
  "kernelspec": {
   "display_name": "Python 3 (ipykernel)",
   "language": "python",
   "name": "python3"
  },
  "language_info": {
   "codemirror_mode": {
    "name": "ipython",
    "version": 3
   },
   "file_extension": ".py",
   "mimetype": "text/x-python",
   "name": "python",
   "nbconvert_exporter": "python",
   "pygments_lexer": "ipython3",
   "version": "3.9.13"
  }
 },
 "nbformat": 4,
 "nbformat_minor": 5
}
